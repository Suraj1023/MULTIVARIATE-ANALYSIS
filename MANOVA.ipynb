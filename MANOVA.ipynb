{
 "cells": [
  {
   "cell_type": "code",
   "execution_count": 7,
   "id": "c4f2a4a2",
   "metadata": {},
   "outputs": [],
   "source": [
    "import pandas as pd\n",
    "import numpy as np\n",
    "import seaborn as sns\n",
    "import matplotlib.pyplot as plt"
   ]
  },
  {
   "cell_type": "code",
   "execution_count": 2,
   "id": "632fd6dc",
   "metadata": {},
   "outputs": [
    {
     "data": {
      "text/html": [
       "<div>\n",
       "<style scoped>\n",
       "    .dataframe tbody tr th:only-of-type {\n",
       "        vertical-align: middle;\n",
       "    }\n",
       "\n",
       "    .dataframe tbody tr th {\n",
       "        vertical-align: top;\n",
       "    }\n",
       "\n",
       "    .dataframe thead th {\n",
       "        text-align: right;\n",
       "    }\n",
       "</style>\n",
       "<table border=\"1\" class=\"dataframe\">\n",
       "  <thead>\n",
       "    <tr style=\"text-align: right;\">\n",
       "      <th></th>\n",
       "      <th>Bacillus</th>\n",
       "      <th>E_coli</th>\n",
       "      <th>K_pneumoniae</th>\n",
       "      <th>Proteus</th>\n",
       "      <th>S_aureus</th>\n",
       "      <th>S_pyogenes</th>\n",
       "      <th>Salmonella</th>\n",
       "      <th>Shigella</th>\n",
       "      <th>Cultures</th>\n",
       "      <th>Plants</th>\n",
       "    </tr>\n",
       "  </thead>\n",
       "  <tbody>\n",
       "    <tr>\n",
       "      <th>0</th>\n",
       "      <td>14.333333</td>\n",
       "      <td>10.0</td>\n",
       "      <td>0.0</td>\n",
       "      <td>12.333333</td>\n",
       "      <td>21.333333</td>\n",
       "      <td>13.333333</td>\n",
       "      <td>15.000000</td>\n",
       "      <td>20.666667</td>\n",
       "      <td>Ethanol</td>\n",
       "      <td>Clove</td>\n",
       "    </tr>\n",
       "    <tr>\n",
       "      <th>1</th>\n",
       "      <td>0.000000</td>\n",
       "      <td>0.0</td>\n",
       "      <td>0.0</td>\n",
       "      <td>0.000000</td>\n",
       "      <td>12.333333</td>\n",
       "      <td>3.666667</td>\n",
       "      <td>0.000000</td>\n",
       "      <td>17.000000</td>\n",
       "      <td>Water</td>\n",
       "      <td>Clove</td>\n",
       "    </tr>\n",
       "    <tr>\n",
       "      <th>2</th>\n",
       "      <td>26.666667</td>\n",
       "      <td>15.0</td>\n",
       "      <td>13.0</td>\n",
       "      <td>12.333333</td>\n",
       "      <td>21.666667</td>\n",
       "      <td>8.333333</td>\n",
       "      <td>22.000000</td>\n",
       "      <td>18.333333</td>\n",
       "      <td>n_hexane</td>\n",
       "      <td>Clove</td>\n",
       "    </tr>\n",
       "    <tr>\n",
       "      <th>3</th>\n",
       "      <td>0.000000</td>\n",
       "      <td>0.0</td>\n",
       "      <td>0.0</td>\n",
       "      <td>16.666667</td>\n",
       "      <td>14.333333</td>\n",
       "      <td>0.000000</td>\n",
       "      <td>4.666667</td>\n",
       "      <td>14.666667</td>\n",
       "      <td>Ethanol</td>\n",
       "      <td>Cinnamon</td>\n",
       "    </tr>\n",
       "    <tr>\n",
       "      <th>4</th>\n",
       "      <td>0.000000</td>\n",
       "      <td>0.0</td>\n",
       "      <td>0.0</td>\n",
       "      <td>0.000000</td>\n",
       "      <td>0.000000</td>\n",
       "      <td>0.000000</td>\n",
       "      <td>0.000000</td>\n",
       "      <td>0.000000</td>\n",
       "      <td>Water</td>\n",
       "      <td>Cinnamon</td>\n",
       "    </tr>\n",
       "  </tbody>\n",
       "</table>\n",
       "</div>"
      ],
      "text/plain": [
       "    Bacillus  E_coli  K_pneumoniae    Proteus   S_aureus  S_pyogenes  \\\n",
       "0  14.333333    10.0           0.0  12.333333  21.333333   13.333333   \n",
       "1   0.000000     0.0           0.0   0.000000  12.333333    3.666667   \n",
       "2  26.666667    15.0          13.0  12.333333  21.666667    8.333333   \n",
       "3   0.000000     0.0           0.0  16.666667  14.333333    0.000000   \n",
       "4   0.000000     0.0           0.0   0.000000   0.000000    0.000000   \n",
       "\n",
       "   Salmonella   Shigella  Cultures    Plants  \n",
       "0   15.000000  20.666667   Ethanol     Clove  \n",
       "1    0.000000  17.000000     Water     Clove  \n",
       "2   22.000000  18.333333  n_hexane     Clove  \n",
       "3    4.666667  14.666667   Ethanol  Cinnamon  \n",
       "4    0.000000   0.000000     Water  Cinnamon  "
      ]
     },
     "execution_count": 2,
     "metadata": {},
     "output_type": "execute_result"
    }
   ],
   "source": [
    "df = pd.read_excel(r\"C:\\Users\\SURAJ\\OneDrive\\Desktop\\New folder (2)\\avg_plants_data.xlsx\")\n",
    "df.head()"
   ]
  },
  {
   "cell_type": "code",
   "execution_count": 3,
   "id": "a4a4d69c",
   "metadata": {},
   "outputs": [
    {
     "data": {
      "text/html": [
       "<div>\n",
       "<style scoped>\n",
       "    .dataframe tbody tr th:only-of-type {\n",
       "        vertical-align: middle;\n",
       "    }\n",
       "\n",
       "    .dataframe tbody tr th {\n",
       "        vertical-align: top;\n",
       "    }\n",
       "\n",
       "    .dataframe thead th {\n",
       "        text-align: right;\n",
       "    }\n",
       "</style>\n",
       "<table border=\"1\" class=\"dataframe\">\n",
       "  <thead>\n",
       "    <tr style=\"text-align: right;\">\n",
       "      <th></th>\n",
       "      <th>count</th>\n",
       "      <th>mean</th>\n",
       "      <th>std</th>\n",
       "      <th>min</th>\n",
       "      <th>25%</th>\n",
       "      <th>50%</th>\n",
       "      <th>75%</th>\n",
       "      <th>max</th>\n",
       "    </tr>\n",
       "  </thead>\n",
       "  <tbody>\n",
       "    <tr>\n",
       "      <th>Bacillus</th>\n",
       "      <td>30.0</td>\n",
       "      <td>4.588889</td>\n",
       "      <td>7.667258</td>\n",
       "      <td>0.0</td>\n",
       "      <td>0.0</td>\n",
       "      <td>0.000000</td>\n",
       "      <td>10.333333</td>\n",
       "      <td>26.666667</td>\n",
       "    </tr>\n",
       "    <tr>\n",
       "      <th>E_coli</th>\n",
       "      <td>30.0</td>\n",
       "      <td>1.633333</td>\n",
       "      <td>4.509972</td>\n",
       "      <td>0.0</td>\n",
       "      <td>0.0</td>\n",
       "      <td>0.000000</td>\n",
       "      <td>0.000000</td>\n",
       "      <td>17.333333</td>\n",
       "    </tr>\n",
       "    <tr>\n",
       "      <th>K_pneumoniae</th>\n",
       "      <td>30.0</td>\n",
       "      <td>0.888889</td>\n",
       "      <td>3.383908</td>\n",
       "      <td>0.0</td>\n",
       "      <td>0.0</td>\n",
       "      <td>0.000000</td>\n",
       "      <td>0.000000</td>\n",
       "      <td>13.666667</td>\n",
       "    </tr>\n",
       "    <tr>\n",
       "      <th>Proteus</th>\n",
       "      <td>30.0</td>\n",
       "      <td>2.066667</td>\n",
       "      <td>4.817274</td>\n",
       "      <td>0.0</td>\n",
       "      <td>0.0</td>\n",
       "      <td>0.000000</td>\n",
       "      <td>0.000000</td>\n",
       "      <td>16.666667</td>\n",
       "    </tr>\n",
       "    <tr>\n",
       "      <th>S_aureus</th>\n",
       "      <td>30.0</td>\n",
       "      <td>9.777778</td>\n",
       "      <td>9.531289</td>\n",
       "      <td>0.0</td>\n",
       "      <td>0.0</td>\n",
       "      <td>11.333333</td>\n",
       "      <td>19.166667</td>\n",
       "      <td>26.333333</td>\n",
       "    </tr>\n",
       "    <tr>\n",
       "      <th>S_pyogenes</th>\n",
       "      <td>30.0</td>\n",
       "      <td>6.011111</td>\n",
       "      <td>7.797476</td>\n",
       "      <td>0.0</td>\n",
       "      <td>0.0</td>\n",
       "      <td>0.000000</td>\n",
       "      <td>13.833333</td>\n",
       "      <td>21.333333</td>\n",
       "    </tr>\n",
       "    <tr>\n",
       "      <th>Salmonella</th>\n",
       "      <td>30.0</td>\n",
       "      <td>2.322222</td>\n",
       "      <td>5.524923</td>\n",
       "      <td>0.0</td>\n",
       "      <td>0.0</td>\n",
       "      <td>0.000000</td>\n",
       "      <td>0.000000</td>\n",
       "      <td>22.000000</td>\n",
       "    </tr>\n",
       "    <tr>\n",
       "      <th>Shigella</th>\n",
       "      <td>30.0</td>\n",
       "      <td>4.355556</td>\n",
       "      <td>7.481744</td>\n",
       "      <td>0.0</td>\n",
       "      <td>0.0</td>\n",
       "      <td>0.000000</td>\n",
       "      <td>4.666667</td>\n",
       "      <td>20.666667</td>\n",
       "    </tr>\n",
       "  </tbody>\n",
       "</table>\n",
       "</div>"
      ],
      "text/plain": [
       "              count      mean       std  min  25%        50%        75%  \\\n",
       "Bacillus       30.0  4.588889  7.667258  0.0  0.0   0.000000  10.333333   \n",
       "E_coli         30.0  1.633333  4.509972  0.0  0.0   0.000000   0.000000   \n",
       "K_pneumoniae   30.0  0.888889  3.383908  0.0  0.0   0.000000   0.000000   \n",
       "Proteus        30.0  2.066667  4.817274  0.0  0.0   0.000000   0.000000   \n",
       "S_aureus       30.0  9.777778  9.531289  0.0  0.0  11.333333  19.166667   \n",
       "S_pyogenes     30.0  6.011111  7.797476  0.0  0.0   0.000000  13.833333   \n",
       "Salmonella     30.0  2.322222  5.524923  0.0  0.0   0.000000   0.000000   \n",
       "Shigella       30.0  4.355556  7.481744  0.0  0.0   0.000000   4.666667   \n",
       "\n",
       "                    max  \n",
       "Bacillus      26.666667  \n",
       "E_coli        17.333333  \n",
       "K_pneumoniae  13.666667  \n",
       "Proteus       16.666667  \n",
       "S_aureus      26.333333  \n",
       "S_pyogenes    21.333333  \n",
       "Salmonella    22.000000  \n",
       "Shigella      20.666667  "
      ]
     },
     "execution_count": 3,
     "metadata": {},
     "output_type": "execute_result"
    }
   ],
   "source": [
    "df.describe().T"
   ]
  },
  {
   "cell_type": "code",
   "execution_count": 13,
   "id": "3a0a6b79",
   "metadata": {},
   "outputs": [
    {
     "data": {
      "text/plain": [
       "<AxesSubplot: xlabel='Bacillus', ylabel='Density'>"
      ]
     },
     "execution_count": 13,
     "metadata": {},
     "output_type": "execute_result"
    },
    {
     "data": {
      "image/png": "[encoded data removed]",
      "text/plain": [
       "<Figure size 432x288 with 1 Axes>"
      ]
     },
     "metadata": {
      "needs_background": "light"
     },
     "output_type": "display_data"
    }
   ],
   "source": [
    "#pdf\n",
    "sns.kdeplot(data=df,x=\"Bacillus\",hue=\"Cultures\")\n"
   ]
  },
  {
   "cell_type": "code",
   "execution_count": 12,
   "id": "a7777eaa",
   "metadata": {},
   "outputs": [
    {
     "data": {
      "text/plain": [
       "<AxesSubplot: xlabel='Bacillus', ylabel='Proportion'>"
      ]
     },
     "execution_count": 12,
     "metadata": {},
     "output_type": "execute_result"
    },
    {
     "data": {
      "image/png": "[encoded data removed]",
      "text/plain": [
       "<Figure size 432x288 with 1 Axes>"
      ]
     },
     "metadata": {
      "needs_background": "light"
     },
     "output_type": "display_data"
    }
   ],
   "source": [
    "# cdf\n",
    "sns.ecdfplot(data=df,x=\"Bacillus\",hue=\"Cultures\")"
   ]
  },
  {
   "cell_type": "code",
   "execution_count": 18,
   "id": "98be0806",
   "metadata": {},
   "outputs": [
    {
     "data": {
      "text/plain": [
       "<seaborn.axisgrid.JointGrid at 0x1dae5600790>"
      ]
     },
     "execution_count": 18,
     "metadata": {},
     "output_type": "execute_result"
    },
    {
     "data": {
      "image/png": "[encoded data removed]",
      "text/plain": [
       "<Figure size 432x432 with 4 Axes>"
      ]
     },
     "metadata": {
      "needs_background": "light"
     },
     "output_type": "display_data"
    }
   ],
   "source": [
    "# denstiy plot 2-d\n",
    "sns.jointplot(data=df,x=\"Bacillus\",y=\"E_coli\",kind=\"kde\",fill=\"TRUE\",cbar=\"TRUE\")"
   ]
  },
  {
   "cell_type": "code",
   "execution_count": null,
   "id": "752afc6b",
   "metadata": {},
   "outputs": [],
   "source": []
  },
  {
   "cell_type": "code",
   "execution_count": null,
   "id": "6ccb4926",
   "metadata": {},
   "outputs": [],
   "source": []
  },
  {
   "cell_type": "code",
   "execution_count": null,
   "id": "ada6c499",
   "metadata": {},
   "outputs": [],
   "source": []
  },
  {
   "cell_type": "code",
   "execution_count": null,
   "id": "d76c1931",
   "metadata": {},
   "outputs": [],
   "source": [
    "from statsmodels.multivariate.manova import MANOVA\n",
    "maov = MANOVA.from_formula(\"Bacillus + E_coli + K_pneumoniae + Proteus + S_aureus + S_pyogenes + Salmonella +  Shigella ~ Cultures+Plants\",data = df)\n",
    "print(maov.mv_test())"
   ]
  },
  {
   "cell_type": "code",
   "execution_count": null,
   "id": "55c1ce57",
   "metadata": {},
   "outputs": [],
   "source": [
    "df.iloc[:,0:9]"
   ]
  },
  {
   "cell_type": "code",
   "execution_count": null,
   "id": "14806496",
   "metadata": {},
   "outputs": [],
   "source": [
    "a= MANOVA.from_formula(\"Bacillus + E_coli + K_pneumoniae + Proteus + S_aureus + S_pyogenes + Salmonella +  Shigella ~ Plants\",data = df)\n",
    "print(a.mv_test())"
   ]
  },
  {
   "cell_type": "code",
   "execution_count": null,
   "id": "0de68159",
   "metadata": {},
   "outputs": [],
   "source": [
    "b= MANOVA.from_formula(\"Bacillus + E_coli + K_pneumoniae + Proteus + S_aureus + S_pyogenes + Salmonella +  Shigella ~ Cultures\",data = df)\n",
    "print(b.mv_test())"
   ]
  },
  {
   "cell_type": "code",
   "execution_count": null,
   "id": "b246c82b",
   "metadata": {},
   "outputs": [],
   "source": [
    "water = df[df.Cultures == \"Water\"]\n",
    "ethanol = df[df.Cultures == \"Ethanol\"]\n",
    "n_hexane = df[df.Cultures == \"n_hexane\"]"
   ]
  },
  {
   "cell_type": "code",
   "execution_count": null,
   "id": "cf753793",
   "metadata": {},
   "outputs": [],
   "source": [
    "n_hexane"
   ]
  },
  {
   "cell_type": "markdown",
   "id": "8a152a73",
   "metadata": {},
   "source": [
    "# One_Way_MANOVA"
   ]
  },
  {
   "cell_type": "markdown",
   "id": "641b06c5",
   "metadata": {},
   "source": [
    "* Cultures Vs 8 type of bacteria "
   ]
  },
  {
   "cell_type": "code",
   "execution_count": null,
   "id": "ae1b90d0",
   "metadata": {},
   "outputs": [],
   "source": [
    "def OW_MANOVA(X,Y,Z,p):\n",
    "    from scipy import stats\n",
    "    a=X.shape ;b=Y.shape ; c= Z.shape\n",
    "    nx = a[0] ; ny = b[0] ;nz = c[0]\n",
    "    x_= np.matrix(X.mean()) ; y_ =np.matrix(Y.mean()) ; z_ = np.matrix(Z.mean())\n",
    "    Sx = np.matrix(X.cov()) ; Sy = np.matrix(Y.cov()) ; Sz = np.matrix(Z.cov())\n",
    "    W = ((nx-1)*Sx)+((ny-1)*Sy)+((nz-1)*Sz)\n",
    "    Overall  = ((nx*x_)+(ny*y_)+(nz*z_))/(nx+ny+nz)\n",
    "    t1 = nx*(x_ - Overall)*np.transpose(x_ - Overall)\n",
    "    t2 =ny*(y_ - Overall)*np.transpose(y_ - Overall)\n",
    "    t3 = nz*(z_ - Overall)*np.transpose(z_ - Overall)\n",
    "    u1 = (nx-1)*Sx ;u2 =(ny-1)*Sy;u3= (nz-1)*Sz\n",
    "\n",
    "    B = t1+t2+t3\n",
    "    w=np.linalg.det(W); b=np.linalg.det(B+W)\n",
    "    Wilk = w/b\n",
    "    sqr = np.sqrt(Wilk)\n",
    "    F_cal = ((((nx+ny+nz)-p-2)/p) *((1-sqr))/sqr )\n",
    "    \n",
    "    F_tab= stats.f.ppf(1-.01, 2*p, 2*(nx+ny+nz-p-2))\n",
    "\n",
    "\n",
    "    F = stats.f(2*p , 2*(nx+ny+nz)-p-2)\n",
    "    \n",
    "    #j = stats.chi2.ppf(1-.01, df=16)\n",
    "    #import math\n",
    "    print(\"wilklambda\",Wilk)\n",
    "    #k = -(30-1-(p+3)/2)*math.log(Wilk)\n",
    "    \n",
    "    print('F_cal',F_cal)\n",
    "    print('F_tab',F_tab)\n",
    "    print(\"p_value\",1-F.cdf(Wilk))\n",
    "   "
   ]
  },
  {
   "cell_type": "code",
   "execution_count": null,
   "id": "e0c183eb",
   "metadata": {},
   "outputs": [],
   "source": [
    "s = n_hexane.iloc[:,0:8]\n",
    "t = water.iloc[:,0:8]\n",
    "u = ethanol.iloc[:,0:8]"
   ]
  },
  {
   "cell_type": "code",
   "execution_count": null,
   "id": "8e91fc5b",
   "metadata": {
    "scrolled": true
   },
   "outputs": [],
   "source": [
    "OW_MANOVA(s,t,u,8)"
   ]
  },
  {
   "cell_type": "markdown",
   "id": "ee16ced8",
   "metadata": {},
   "source": [
    "# Now, using Hotelling T2 calculated each Cultures individually"
   ]
  },
  {
   "cell_type": "code",
   "execution_count": null,
   "id": "59e62b12",
   "metadata": {},
   "outputs": [],
   "source": [
    "# define function for hotelling T^2\n",
    "def hotelling_t_2(X,Y,p):\n",
    "    a=X.shape ;b=Y.shape\n",
    "    nx = a[0]\n",
    "    ny = b[0]\n",
    "    delta = np.matrix(X.mean()- Y.mean())\n",
    "    Sx = np.matrix(X.cov())\n",
    "    Sy = np.matrix(Y.cov())\n",
    "    S_pooled = (((nx-1)*Sx + (ny-1)*Sy)/((nx+ny)-2))\n",
    "    # fot inverse of pooled\n",
    "    inv_Spooled = np.linalg.inv(S_pooled)\n",
    "    t_squared = ((nx*ny)/(nx+ny) *delta)*(inv_Spooled*np.transpose(delta))\n",
    "    statistics = t_squared * ((nx+ny-p-1)/((nx+ny-2)*p))\n",
    "    import scipy.stats as stats\n",
    "    df1 = p ; df2 = (nx+ny-6-1)\n",
    "    F = stats.f(p , nx+ny-p-1)\n",
    "    pvalue = 1- F.cdf(statistics)\n",
    "    print(\"Hotelling_T^2\" ,t_squared)\n",
    "    F_tabulated = stats.f.ppf(1-0.05, df1 ,df2)\n",
    "    F_calculated = (t_squared/((p*(nx+ny-p-1))/(nx+ny-1)))\n",
    "    print('F_tabulated value',F_tabulated)\n",
    "    print('F_calculated',F_calculated)\n",
    "    print('p_value', pvalue)\n",
    "    if F_tabulated < F_calculated :\n",
    "        print(\"there is no siginificance among the group of two generations\")\n",
    "    else:\n",
    "        print(\"there is siginificance among the group of two generations\")\n",
    "    "
   ]
  },
  {
   "cell_type": "code",
   "execution_count": null,
   "id": "3fdf80b2",
   "metadata": {},
   "outputs": [],
   "source": [
    "hotelling_t_2(water.iloc[:,0:8],n_hexane.iloc[:,0:8],8)"
   ]
  },
  {
   "cell_type": "code",
   "execution_count": null,
   "id": "876f200a",
   "metadata": {},
   "outputs": [],
   "source": [
    "hotelling_t_2(n_hexane.iloc[:,0:8],ethanol.iloc[:,0:8],8)"
   ]
  },
  {
   "cell_type": "code",
   "execution_count": null,
   "id": "8e7620b1",
   "metadata": {},
   "outputs": [],
   "source": []
  },
  {
   "cell_type": "code",
   "execution_count": null,
   "id": "e8bf34ec",
   "metadata": {},
   "outputs": [],
   "source": [
    "n_hexane.mean()"
   ]
  },
  {
   "cell_type": "code",
   "execution_count": null,
   "id": "0c504228",
   "metadata": {},
   "outputs": [],
   "source": [
    "A= np.matrix(n_hexane.mean())"
   ]
  },
  {
   "cell_type": "code",
   "execution_count": null,
   "id": "cfd4e786",
   "metadata": {},
   "outputs": [],
   "source": [
    "np.transpose(A)"
   ]
  },
  {
   "cell_type": "code",
   "execution_count": null,
   "id": "98a3dd93",
   "metadata": {},
   "outputs": [],
   "source": [
    "np.matrix(n_hexane.cov())"
   ]
  },
  {
   "cell_type": "code",
   "execution_count": null,
   "id": "488aa20c",
   "metadata": {},
   "outputs": [],
   "source": [
    "n_hexane.cov()"
   ]
  },
  {
   "cell_type": "code",
   "execution_count": null,
   "id": "79881eef",
   "metadata": {},
   "outputs": [],
   "source": [
    "s"
   ]
  },
  {
   "cell_type": "markdown",
   "id": "c4ca2743",
   "metadata": {},
   "source": [
    "# Two_Way_MANOVA"
   ]
  },
  {
   "cell_type": "code",
   "execution_count": null,
   "id": "49c5e757",
   "metadata": {},
   "outputs": [],
   "source": [
    "np.mean(n_hexane.mean())"
   ]
  },
  {
   "cell_type": "code",
   "execution_count": null,
   "id": "d99b6240",
   "metadata": {},
   "outputs": [],
   "source": [
    "f =np.matrix(n_hexane.iloc[:,0:8].mean())\n",
    "f"
   ]
  },
  {
   "cell_type": "code",
   "execution_count": null,
   "id": "5c751348",
   "metadata": {},
   "outputs": [],
   "source": [
    "np.transpose(f)"
   ]
  },
  {
   "cell_type": "code",
   "execution_count": null,
   "id": "e20adef5",
   "metadata": {},
   "outputs": [],
   "source": [
    "nx=271 ; ny= 138; nz= 107\n",
    "x_=np.transpose(np.matrix([2.066,0.480,0.082,0.360])) ; y_ =np.transpose(np.matrix([2.167,0.596,0.124,0.418])) ; z_ = np.transpose(np.matrix([2.273,0.521,0.125,0.383]))\n",
    "p = 4\n",
    "x= [[0.291,-0.01, 0.002,0.10],[-0.01,0.11,0.00,0.003],[0.002,0.00,0.001,0.00],[0.10,0.003,0.00,0.10]]\n",
    "y = [[0.561,0.011,.001,0.037],[0.011,0.025,0.004,0.007],[0.001,0.004,0.005,0.002],[0.037,0.007,0.002,0.019]]\n",
    "z= [[0.261,0.03,0.003,0.018],[0.03,0.017,0,0.006],[0.003,-0,0.004,0.001],[0.018,0.006,0.001,0.013]]\n",
    "Sx = np.matrix(np.array(x)); Sy=np.matrix(np.array(y)); Sz = np.matrix(np.array(z))\n",
    "Overall  = ((nx*x_)+(ny*y_)+(nz*z_))/(nx+ny+nz)\n",
    "t1 = nx*(x_ - Overall)*np.transpose(x_ - Overall)\n",
    "t2 =ny*(y_ - Overall)*np.transpose(y_ - Overall)\n",
    "t3 = nz*(z_ - Overall)*np.transpose(z_ - Overall)\n",
    "B = t1+t2+t3\n",
    "print(x_,y_,z_)\n",
    "print(Overall)\n",
    "print(B)                                          \n",
    "                                                        \n",
    "print(Sx)\n",
    "print(Sy)\n",
    "print(Sz)"
   ]
  },
  {
   "cell_type": "code",
   "execution_count": null,
   "id": "d837206d",
   "metadata": {},
   "outputs": [],
   "source": []
  }
 ],
 "metadata": {
  "kernelspec": {
   "display_name": "Python 3 (ipykernel)",
   "language": "python",
   "name": "python3"
  },
  "language_info": {
   "codemirror_mode": {
    "name": "ipython",
    "version": 3
   },
   "file_extension": ".py",
   "mimetype": "text/x-python",
   "name": "python",
   "nbconvert_exporter": "python",
   "pygments_lexer": "ipython3",
   "version": "3.9.12"
  }
 },
 "nbformat": 4,
 "nbformat_minor": 5
}
